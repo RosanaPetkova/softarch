{
 "cells": [
  {
   "cell_type": "code",
   "execution_count": 1,
   "metadata": {},
   "outputs": [],
   "source": [
    "#all imports you need\n",
    "import numpy as np\n",
    "import keras\n",
    "from tensorflow.keras.preprocessing.image import load_img, img_to_array\n",
    "from keras.applications.vgg16 import preprocess_input"
   ]
  },
  {
   "cell_type": "code",
   "execution_count": 2,
   "metadata": {},
   "outputs": [],
   "source": [
    "#importing a pre-trained model which is based on VGG16 convolutional base with one custom dense layer added at the end\n",
    "model = keras.models.load_model('model.h5')"
   ]
  },
  {
   "cell_type": "code",
   "execution_count": 3,
   "metadata": {},
   "outputs": [],
   "source": [
    "#classes of fruits the model has been trained on and can recognize\n",
    "classes = np.array(['Apple Braeburn', 'Apple Granny Smith', 'Apricot', 'Avocado', 'Banana', \n",
    "          'Blueberry', 'Cactus fruit', 'Cantaloupe', 'Cherry', 'Clementine',\n",
    "          'Corn',  'Cucumber Ripe', 'Grape Blue', 'Kiwi', 'Lemon', 'Limes',\n",
    "          'Mango', 'Onion White', 'Orange', 'Papaya', 'Passion Fruit', 'Peach',\n",
    "          'Pear', 'Pepper Green', 'Pepper Red', 'Pineapple', 'Plum',\n",
    "          'Pomegranate', 'Potato Red', 'Raspberry', 'Strawberry',\n",
    "          'Tomato', 'Watermelon'])"
   ]
  },
  {
   "cell_type": "code",
   "execution_count": 4,
   "metadata": {},
   "outputs": [],
   "source": [
    "#defining our own function with all preprocessing steps needed to pass an image through the model\n",
    "def predict_fruit(filename):\n",
    "   image = load_img(filename, target_size=(224, 224))\n",
    "   image = img_to_array(image)\n",
    "   image = image.reshape((1, image.shape[0], image.shape[1], image.shape[2]))\n",
    "   image = preprocess_input(image)\n",
    "   yhat = model.predict(image)\n",
    "   prediction = np.argmax(yhat[0])\n",
    "   pred = classes[prediction]\n",
    "   return pred"
   ]
  },
  {
   "cell_type": "code",
   "execution_count": 7,
   "metadata": {},
   "outputs": [],
   "source": [
    "#adjust filename path to test different fruits\n",
    "filename = ('test_images/papaya.jpg')"
   ]
  },
  {
   "cell_type": "code",
   "execution_count": null,
   "metadata": {},
   "outputs": [],
   "source": [
    "predict_fruit(filename)"
   ]
  }
 ],
 "metadata": {
  "kernelspec": {
   "display_name": "Python 3",
   "language": "python",
   "name": "python3"
  },
  "language_info": {
   "codemirror_mode": {
    "name": "ipython",
    "version": 3
   },
   "file_extension": ".py",
   "mimetype": "text/x-python",
   "name": "python",
   "nbconvert_exporter": "python",
   "pygments_lexer": "ipython3",
   "version": "3.8.10"
  }
 },
 "nbformat": 4,
 "nbformat_minor": 2
}
